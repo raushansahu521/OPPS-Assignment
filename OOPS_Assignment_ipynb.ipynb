{
  "nbformat": 4,
  "nbformat_minor": 0,
  "metadata": {
    "colab": {
      "provenance": []
    },
    "kernelspec": {
      "name": "python3",
      "display_name": "Python 3"
    },
    "language_info": {
      "name": "python"
    }
  },
  "cells": [
    {
      "cell_type": "code",
      "execution_count": null,
      "metadata": {
        "id": "OQjOnWeQXa7B"
      },
      "outputs": [],
      "source": []
    },
    {
      "cell_type": "markdown",
      "source": [
        "1. What is Object-Oriented Programming (OOP)?\n",
        "\n",
        "* OOP is a programming paradigm based on the concept of objects, which contain data (attributes) and methods (functions).\n",
        "\n",
        "* It helps in reusability, modularity, and abstraction."
      ],
      "metadata": {
        "id": "Gluv78auXiaI"
      }
    },
    {
      "cell_type": "markdown",
      "source": [
        "2. What is a class in OOP?\n",
        "\n",
        "* A class is a blueprint for creating objects."
      ],
      "metadata": {
        "id": "JddL4fgcYZ0p"
      }
    },
    {
      "cell_type": "markdown",
      "source": [
        "3. What is an object in OOP?\n",
        "\n",
        "* An object is an instance of a class.\n",
        "\n",
        "*  Example:\n",
        "\n",
        "d = Dog()\n",
        "\n",
        "d.bark()"
      ],
      "metadata": {
        "id": "NMToNSHPYuit"
      }
    },
    {
      "cell_type": "markdown",
      "source": [
        "4. Difference between abstraction and encapsulation\n",
        "\n",
        "* Abstraction → Hiding implementation details, showing only necessary functionality.\n",
        "\n",
        "* Encapsulation → Binding data and methods together, restricting direct access."
      ],
      "metadata": {
        "id": "-PlsVPwcY2wD"
      }
    },
    {
      "cell_type": "markdown",
      "source": [
        "5. What are dunder methods in Python?\n",
        "\n",
        "* \"Dunder\" means double underscore. Special methods like __init__, __str__, __len__."
      ],
      "metadata": {
        "id": "1XaVklieZB8j"
      }
    },
    {
      "cell_type": "markdown",
      "source": [
        "6. Inheritance in OOP\n",
        "\n",
        "* Inheritance allows one class to derive properties/methods from another."
      ],
      "metadata": {
        "id": "Tc4Bg0NTZOUU"
      }
    },
    {
      "cell_type": "markdown",
      "source": [
        "7. What is polymorphism in OOP?\n",
        "\n",
        "* Polymorphism means same function name but different behavior.\n",
        "\n",
        "*  Example:\n",
        "\n",
        " * for animal in\n",
        " [Dog(), Animal()]:\n",
        "\n",
        "    animal.speak()"
      ],
      "metadata": {
        "id": "NY2s0XByZYor"
      }
    },
    {
      "cell_type": "markdown",
      "source": [
        "8. How is encapsulation achieved in Python?\n",
        "\n",
        "* Using private variables (__var) and methods."
      ],
      "metadata": {
        "id": "lPPuJh3FZsOO"
      }
    },
    {
      "cell_type": "markdown",
      "source": [
        "9. What is a constructor in Python?\n",
        "\n",
        "* A constructor is the __init__ method, automatically called when object is created."
      ],
      "metadata": {
        "id": "8SWuql0hZ31r"
      }
    },
    {
      "cell_type": "markdown",
      "source": [
        "10. What are class and static methods in Python?\n",
        "\n",
        "* Class method (@classmethod) → Works with class, not instance.\n",
        "\n",
        "* Static method (@staticmethod) → Works without accessing class or object."
      ],
      "metadata": {
        "id": "1r9z7q25Z_e1"
      }
    },
    {
      "cell_type": "markdown",
      "source": [
        "11. Method overloading in Python\n",
        "\n",
        "* Not supported directly, but can be done using default arguments."
      ],
      "metadata": {
        "id": "bOCIVh4jaR-c"
      }
    },
    {
      "cell_type": "markdown",
      "source": [
        "12. Method overriding in OOP\n",
        "\n",
        "* When subclass defines a method with the same name as parent class."
      ],
      "metadata": {
        "id": "sT6ImO-naUmt"
      }
    },
    {
      "cell_type": "markdown",
      "source": [
        "13. Property decorator in Python\n",
        "\n",
        "* Used to make a method behave like an attribute.\n",
        "\n",
        "class Circle:\n",
        "\n",
        "    def __init__(self, radius):\n",
        "        self._radius = radius\n",
        "\n",
        "    @property\n",
        "    def area(self):\n",
        "        return 3.14 * self._radius**2\n"
      ],
      "metadata": {
        "id": "4zv3w8RcamtJ"
      }
    },
    {
      "cell_type": "markdown",
      "source": [
        "14. Why is polymorphism important?\n",
        "\n",
        "* It allows code reusability and flexibility."
      ],
      "metadata": {
        "id": "yq-ymY6Ya0OV"
      }
    },
    {
      "cell_type": "markdown",
      "source": [
        "15. Abstract class in Python\n",
        "\n",
        "* Defined using abc module; cannot be instantiated."
      ],
      "metadata": {
        "id": "tYiBIM_XbDMk"
      }
    },
    {
      "cell_type": "markdown",
      "source": [
        "16. Advantages of OOP\n",
        "\n",
        "* Reusability\n",
        "\n",
        "* Modularity\n",
        "\n",
        "* Maintainability\n",
        "\n",
        "* Encapsulation"
      ],
      "metadata": {
        "id": "CEDYYlb5bR0M"
      }
    },
    {
      "cell_type": "markdown",
      "source": [
        "17. Difference between class variable and instance variable\n",
        "\n",
        "* Class variable → Shared by all objects.\n",
        "\n",
        "* Instance variable → Unique per object."
      ],
      "metadata": {
        "id": "B4594kysbbrU"
      }
    },
    {
      "cell_type": "markdown",
      "source": [
        "18. Multiple inheritance in Python\n",
        "\n",
        "* A class can inherit from multiple classes.\n",
        "\n",
        "class A: pass\n",
        "\n",
        "class B: pass\n",
        "\n",
        "class C(A, B): pass\n"
      ],
      "metadata": {
        "id": "6WhuyYifbufD"
      }
    },
    {
      "cell_type": "markdown",
      "source": [
        "19. Purpose of __str__ and __repr__\n",
        "\n",
        "* __str__ → User-friendly output\n",
        "\n",
        "* __repr__ → Debug/developer-friendly output"
      ],
      "metadata": {
        "id": "4LjFVsR2b75J"
      }
    },
    {
      "cell_type": "markdown",
      "source": [
        "20. Significance of super()\n",
        "\n",
        "* Used to call methods of parent class."
      ],
      "metadata": {
        "id": "KIzCa0AFcJWX"
      }
    },
    {
      "cell_type": "markdown",
      "source": [
        "21. Significance of __del__\n",
        "\n",
        "* Destructor, called when object is deleted."
      ],
      "metadata": {
        "id": "BTnDVTSdcPz1"
      }
    },
    {
      "cell_type": "markdown",
      "source": [
        "22. Difference between @staticmethod and @classmethod\n",
        "\n",
        "@staticmethod → No access to class/instance.\n",
        "\n",
        "@classmethod → Works with class variables."
      ],
      "metadata": {
        "id": "Bu7GyGYEcZQs"
      }
    },
    {
      "cell_type": "markdown",
      "source": [
        "23. Polymorphism with inheritance\n",
        "\n",
        "* Child class overrides parent method, and both can be used interchangeably."
      ],
      "metadata": {
        "id": "CrKWI6-pcfj0"
      }
    },
    {
      "cell_type": "markdown",
      "source": [
        "24. Method chaining in Python OOP\n",
        "\n",
        "* Calling multiple methods in a single line."
      ],
      "metadata": {
        "id": "3iP5e876cp0B"
      }
    },
    {
      "cell_type": "markdown",
      "source": [
        "25. Purpose of __call__ method\n",
        "\n",
        "* Makes an object callable like a function."
      ],
      "metadata": {
        "id": "uI3sOnfscxYM"
      }
    },
    {
      "cell_type": "code",
      "source": [
        "#1. Parent & Child with method overriding\n",
        "class Animal:\n",
        "    def speak(self):\n",
        "        print(\"This animal makes a sound.\")\n",
        "\n",
        "class Dog(Animal):\n",
        "    def speak(self):\n",
        "        print(\"Bark!\")\n",
        "\n",
        "d = Dog()\n",
        "d.speak()"
      ],
      "metadata": {
        "colab": {
          "base_uri": "https://localhost:8080/"
        },
        "id": "K2uTGnqhc7Hw",
        "outputId": "ef5d8a3d-3fbb-49f5-cb62-c697fa3802ce"
      },
      "execution_count": 2,
      "outputs": [
        {
          "output_type": "stream",
          "name": "stdout",
          "text": [
            "Bark!\n"
          ]
        }
      ]
    },
    {
      "cell_type": "code",
      "source": [
        "#2. Abstract Class Shape\n",
        "from abc import ABC, abstractmethod\n",
        "\n",
        "class Shape(ABC):\n",
        "    @abstractmethod\n",
        "    def area(self):\n",
        "        pass\n",
        "\n",
        "class Circle(Shape):\n",
        "    def __init__(self, radius):\n",
        "        self.radius = radius\n",
        "    def area(self):\n",
        "        return 3.14 * self.radius**2\n",
        "\n",
        "class Rectangle(Shape):\n",
        "    def __init__(self, length, width):\n",
        "        self.length = length\n",
        "        self.width = width\n",
        "    def area(self):\n",
        "        return self.length * self.width\n",
        "\n",
        "c = Circle(5)\n",
        "r = Rectangle(4, 6)\n",
        "print(\"Circle Area:\", c.area())\n",
        "print(\"Rectangle Area:\", r.area())"
      ],
      "metadata": {
        "colab": {
          "base_uri": "https://localhost:8080/"
        },
        "id": "9GBm0rI7d76v",
        "outputId": "943ddb0e-3c8a-4855-f119-08e2a8ef77fd"
      },
      "execution_count": 3,
      "outputs": [
        {
          "output_type": "stream",
          "name": "stdout",
          "text": [
            "Circle Area: 78.5\n",
            "Rectangle Area: 24\n"
          ]
        }
      ]
    },
    {
      "cell_type": "code",
      "source": [
        "#3. Multi-Level Inheritance\n",
        "class Vehicle:\n",
        "    def __init__(self, vtype):\n",
        "        self.vtype = vtype\n",
        "\n",
        "class Car(Vehicle):\n",
        "    def __init__(self, brand, vtype=\"Car\"):\n",
        "        super().__init__(vtype)\n",
        "        self.brand = brand\n",
        "\n",
        "class ElectricCar(Car):\n",
        "    def __init__(self, brand, battery):\n",
        "        super().__init__(brand)\n",
        "        self.battery = battery\n",
        "\n",
        "e = ElectricCar(\"Tesla\", \"100kWh\")\n",
        "print(e.vtype, e.brand, e.battery)"
      ],
      "metadata": {
        "colab": {
          "base_uri": "https://localhost:8080/"
        },
        "id": "A2JlzgObeUux",
        "outputId": "917bc484-77e0-4256-ed10-5ad6e2c8a94f"
      },
      "execution_count": 4,
      "outputs": [
        {
          "output_type": "stream",
          "name": "stdout",
          "text": [
            "Car Tesla 100kWh\n"
          ]
        }
      ]
    },
    {
      "cell_type": "code",
      "source": [
        "#4. Polymorphism with Bird\n",
        "class Bird:\n",
        "    def fly(self):\n",
        "        print(\"Bird is flying.\")\n",
        "\n",
        "class Sparrow(Bird):\n",
        "    def fly(self):\n",
        "        print(\"Sparrow can fly high.\")\n",
        "\n",
        "class Penguin(Bird):\n",
        "    def fly(self):\n",
        "        print(\"Penguins cannot fly.\")\n",
        "\n",
        "for bird in [Sparrow(), Penguin()]:\n",
        "    bird.fly()"
      ],
      "metadata": {
        "colab": {
          "base_uri": "https://localhost:8080/"
        },
        "id": "Ys4iD2tVeown",
        "outputId": "05f300b5-fbcd-495e-8285-40afe6699e38"
      },
      "execution_count": 5,
      "outputs": [
        {
          "output_type": "stream",
          "name": "stdout",
          "text": [
            "Sparrow can fly high.\n",
            "Penguins cannot fly.\n"
          ]
        }
      ]
    },
    {
      "cell_type": "code",
      "source": [
        "#5. Encapsulation with BankAccount\n",
        "class BankAccount:\n",
        "    def __init__(self, balance=0):\n",
        "        self.__balance = balance\n",
        "\n",
        "    def deposit(self, amount):\n",
        "        self.__balance += amount\n",
        "\n",
        "    def withdraw(self, amount):\n",
        "        if amount <= self.__balance:\n",
        "            self.__balance -= amount\n",
        "        else:\n",
        "            print(\"Insufficient balance\")\n",
        "\n",
        "    def check_balance(self):\n",
        "        return self.__balance\n",
        "\n",
        "acc = BankAccount(1000)\n",
        "acc.deposit(500)\n",
        "acc.withdraw(200)\n",
        "print(\"Balance:\", acc.check_balance())\n"
      ],
      "metadata": {
        "colab": {
          "base_uri": "https://localhost:8080/"
        },
        "id": "onRSrZBee9ch",
        "outputId": "39a86f48-931c-4338-8f3e-59f18a053357"
      },
      "execution_count": 6,
      "outputs": [
        {
          "output_type": "stream",
          "name": "stdout",
          "text": [
            "Balance: 1300\n"
          ]
        }
      ]
    },
    {
      "cell_type": "code",
      "source": [
        "#6. Runtime Polymorphism with Instrument\n",
        "class Instrument:\n",
        "    def play(self):\n",
        "        print(\"Playing an instrument.\")\n",
        "\n",
        "class Guitar(Instrument):\n",
        "    def play(self):\n",
        "        print(\"Playing the guitar.\")\n",
        "\n",
        "class Piano(Instrument):\n",
        "    def play(self):\n",
        "        print(\"Playing the piano.\")\n",
        "\n",
        "for inst in [Guitar(), Piano()]:\n",
        "    inst.play()"
      ],
      "metadata": {
        "colab": {
          "base_uri": "https://localhost:8080/"
        },
        "id": "qMkfKLg3fFte",
        "outputId": "226f1b5e-bd5d-4fb0-85b7-56afeb7f7c0b"
      },
      "execution_count": 7,
      "outputs": [
        {
          "output_type": "stream",
          "name": "stdout",
          "text": [
            "Playing the guitar.\n",
            "Playing the piano.\n"
          ]
        }
      ]
    },
    {
      "cell_type": "code",
      "source": [
        "#7. Class & Static Methods\n",
        "class MathOperations:\n",
        "    @classmethod\n",
        "    def add_numbers(cls, a, b):\n",
        "        return a + b\n",
        "\n",
        "    @staticmethod\n",
        "    def subtract_numbers(a, b):\n",
        "        return a - b\n",
        "\n",
        "print(MathOperations.add_numbers(5, 3))\n",
        "print(MathOperations.subtract_numbers(10, 4))\n"
      ],
      "metadata": {
        "colab": {
          "base_uri": "https://localhost:8080/"
        },
        "id": "yWEVHmoffbB3",
        "outputId": "7f218f06-217f-45f8-9e88-68c952de08b0"
      },
      "execution_count": 8,
      "outputs": [
        {
          "output_type": "stream",
          "name": "stdout",
          "text": [
            "8\n",
            "6\n"
          ]
        }
      ]
    },
    {
      "cell_type": "code",
      "source": [
        "#8. Count Persons with Class Method\n",
        "class Person:\n",
        "    count = 0\n",
        "    def __init__(self, name):\n",
        "        self.name = name\n",
        "        Person.count += 1\n",
        "\n",
        "    @classmethod\n",
        "    def total_persons(cls):\n",
        "        return cls.count\n",
        "\n",
        "p1 = Person(\"Alice\")\n",
        "p2 = Person(\"Bob\")\n",
        "print(\"Total Persons:\", Person.total_persons())\n"
      ],
      "metadata": {
        "colab": {
          "base_uri": "https://localhost:8080/"
        },
        "id": "OyOPuVI2frWz",
        "outputId": "430bb945-6375-4abb-e8eb-0c3e17a44fd0"
      },
      "execution_count": 9,
      "outputs": [
        {
          "output_type": "stream",
          "name": "stdout",
          "text": [
            "Total Persons: 2\n"
          ]
        }
      ]
    },
    {
      "cell_type": "code",
      "source": [
        "#9. Fraction with __str__\n",
        "class Fraction:\n",
        "    def __init__(self, num, den):\n",
        "        self.num = num\n",
        "        self.den = den\n",
        "\n",
        "    def __str__(self):\n",
        "        return f\"{self.num}/{self.den}\"\n",
        "\n",
        "f = Fraction(3, 4)\n",
        "print(f)"
      ],
      "metadata": {
        "colab": {
          "base_uri": "https://localhost:8080/"
        },
        "id": "g0NOMQ5hfxer",
        "outputId": "0e6fd791-f437-4c70-e016-11877aa5cb16"
      },
      "execution_count": 10,
      "outputs": [
        {
          "output_type": "stream",
          "name": "stdout",
          "text": [
            "3/4\n"
          ]
        }
      ]
    },
    {
      "cell_type": "code",
      "source": [
        "#10. Operator Overloading (Vector Addition)\n",
        "class Vector:\n",
        "    def __init__(self, x, y):\n",
        "        self.x = x\n",
        "        self.y = y\n",
        "\n",
        "    def __add__(self, other):\n",
        "        return Vector(self.x + other.x, self.y + other.y)\n",
        "\n",
        "    def __str__(self):\n",
        "        return f\"({self.x}, {self.y})\"\n",
        "\n",
        "v1 = Vector(2, 3)\n",
        "v2 = Vector(4, 5)\n",
        "print(v1 + v2)\n"
      ],
      "metadata": {
        "colab": {
          "base_uri": "https://localhost:8080/"
        },
        "id": "RjVxReGhf54M",
        "outputId": "8038bb13-3e9d-46f3-89cd-4e1911484e3e"
      },
      "execution_count": 11,
      "outputs": [
        {
          "output_type": "stream",
          "name": "stdout",
          "text": [
            "(6, 8)\n"
          ]
        }
      ]
    },
    {
      "cell_type": "code",
      "source": [
        "#11. Person with greet()\n",
        "class Person:\n",
        "    def __init__(self, name, age):\n",
        "        self.name = name\n",
        "        self.age = age\n",
        "\n",
        "    def greet(self):\n",
        "        print(f\"Hello, my name is {self.name} and I am {self.age} years old.\")\n",
        "\n",
        "p = Person(\"Raushan\", 22)\n",
        "p.greet()"
      ],
      "metadata": {
        "colab": {
          "base_uri": "https://localhost:8080/"
        },
        "id": "e6ZDM-GfgC6X",
        "outputId": "91e25bd2-ede5-415a-8b28-17555838c928"
      },
      "execution_count": 12,
      "outputs": [
        {
          "output_type": "stream",
          "name": "stdout",
          "text": [
            "Hello, my name is Raushan and I am 22 years old.\n"
          ]
        }
      ]
    },
    {
      "cell_type": "code",
      "source": [
        "#12. Student with average grades\n",
        "class Student:\n",
        "    def __init__(self, name, grades):\n",
        "        self.name = name\n",
        "        self.grades = grades\n",
        "\n",
        "    def average_grade(self):\n",
        "        return sum(self.grades) / len(self.grades)\n",
        "\n",
        "s = Student(\"Alice\", [90, 80, 70])\n",
        "print(\"Average:\", s.average_grade())"
      ],
      "metadata": {
        "colab": {
          "base_uri": "https://localhost:8080/"
        },
        "id": "cgo65uc0gMwR",
        "outputId": "17dd0299-3af6-4d34-bc74-c06950cadf20"
      },
      "execution_count": 13,
      "outputs": [
        {
          "output_type": "stream",
          "name": "stdout",
          "text": [
            "Average: 80.0\n"
          ]
        }
      ]
    },
    {
      "cell_type": "code",
      "source": [
        "#13. Rectangle Area\n",
        "class Rectangle:\n",
        "    def set_dimensions(self, l, w):\n",
        "        self.l = l\n",
        "        self.w = w\n",
        "\n",
        "    def area(self):\n",
        "        return self.l * self.w\n",
        "\n",
        "r = Rectangle()\n",
        "r.set_dimensions(5, 10)\n",
        "print(\"Area:\", r.area())"
      ],
      "metadata": {
        "colab": {
          "base_uri": "https://localhost:8080/"
        },
        "id": "tcjmz8FwgUW2",
        "outputId": "8c7d1a1a-5355-4682-fbdf-8f34406322d1"
      },
      "execution_count": 14,
      "outputs": [
        {
          "output_type": "stream",
          "name": "stdout",
          "text": [
            "Area: 50\n"
          ]
        }
      ]
    },
    {
      "cell_type": "code",
      "source": [
        "#14. Employee & Manager Salary\n",
        "class Employee:\n",
        "    def __init__(self, hours, rate):\n",
        "        self.hours = hours\n",
        "        self.rate = rate\n",
        "\n",
        "    def calculate_salary(self):\n",
        "        return self.hours * self.rate\n",
        "\n",
        "class Manager(Employee):\n",
        "    def __init__(self, hours, rate, bonus):\n",
        "        super().__init__(hours, rate)\n",
        "        self.bonus = bonus\n",
        "\n",
        "    def calculate_salary(self):\n",
        "        return super().calculate_salary() + self.bonus\n",
        "\n",
        "m = Manager(40, 50, 1000)\n",
        "print(\"Manager Salary:\", m.calculate_salary())"
      ],
      "metadata": {
        "colab": {
          "base_uri": "https://localhost:8080/"
        },
        "id": "cBrq8CKygcmh",
        "outputId": "3a53a6e5-da51-40b5-88ce-6431c77a4e82"
      },
      "execution_count": 15,
      "outputs": [
        {
          "output_type": "stream",
          "name": "stdout",
          "text": [
            "Manager Salary: 3000\n"
          ]
        }
      ]
    },
    {
      "cell_type": "code",
      "source": [
        "#15. Product with total price\n",
        "class Product:\n",
        "    def __init__(self, name, price, quantity):\n",
        "        self.name = name\n",
        "        self.price = price\n",
        "        self.quantity = quantity\n",
        "\n",
        "    def total_price(self):\n",
        "        return self.price * self.quantity\n",
        "\n",
        "p = Product(\"Laptop\", 60000, 2)\n",
        "print(\"Total Price:\", p.total_price())\n"
      ],
      "metadata": {
        "colab": {
          "base_uri": "https://localhost:8080/"
        },
        "id": "aArEs5jFgnEf",
        "outputId": "1d9e4597-d5ce-402b-d473-1a9676bf04a1"
      },
      "execution_count": 16,
      "outputs": [
        {
          "output_type": "stream",
          "name": "stdout",
          "text": [
            "Total Price: 120000\n"
          ]
        }
      ]
    },
    {
      "cell_type": "code",
      "source": [
        "#16. Animal with Abstract sound()\n",
        "from abc import ABC, abstractmethod\n",
        "\n",
        "class Animal(ABC):\n",
        "    @abstractmethod\n",
        "    def sound(self):\n",
        "        pass\n",
        "\n",
        "class Cow(Animal):\n",
        "    def sound(self):\n",
        "        print(\"Moo\")\n",
        "\n",
        "class Sheep(Animal):\n",
        "    def sound(self):\n",
        "        print(\"Baa\")\n",
        "\n",
        "c = Cow()\n",
        "s = Sheep()\n",
        "c.sound()\n",
        "s.sound()"
      ],
      "metadata": {
        "colab": {
          "base_uri": "https://localhost:8080/"
        },
        "id": "-SE0IsS8gvMG",
        "outputId": "e25b33e3-2c67-4c76-99fa-3434b7b07c6f"
      },
      "execution_count": 17,
      "outputs": [
        {
          "output_type": "stream",
          "name": "stdout",
          "text": [
            "Moo\n",
            "Baa\n"
          ]
        }
      ]
    },
    {
      "cell_type": "code",
      "source": [
        "#17. Book with get_book_info()\n",
        "class Book:\n",
        "    def __init__(self, title, author, year):\n",
        "        self.title = title\n",
        "        self.author = author\n",
        "        self.year = year\n",
        "\n",
        "    def get_book_info(self):\n",
        "        return f\"{self.title} by {self.author}, published in {self.year}\"\n",
        "\n",
        "b = Book(\"Python OOP\", \"Raushan Sahu\", 2025)\n",
        "print(b.get_book_info())"
      ],
      "metadata": {
        "colab": {
          "base_uri": "https://localhost:8080/"
        },
        "id": "bI4qjbfLg3RW",
        "outputId": "c23efdba-b644-477a-f93c-f872099d0469"
      },
      "execution_count": 18,
      "outputs": [
        {
          "output_type": "stream",
          "name": "stdout",
          "text": [
            "Python OOP by Raushan Sahu, published in 2025\n"
          ]
        }
      ]
    },
    {
      "cell_type": "code",
      "source": [
        "#18. House → Mansion\n",
        "class House:\n",
        "    def __init__(self, address, price):\n",
        "        self.address = address\n",
        "        self.price = price\n",
        "\n",
        "class Mansion(House):\n",
        "    def __init__(self, address, price, rooms):\n",
        "        super().__init__(address, price)\n",
        "        self.rooms = rooms\n",
        "\n",
        "m = Mansion(\"Delhi\", 50000000, 10)\n",
        "print(m.address, m.price, m.rooms)"
      ],
      "metadata": {
        "colab": {
          "base_uri": "https://localhost:8080/"
        },
        "id": "esy-yYZfg_gA",
        "outputId": "bed7d280-8471-46ff-90cc-b276b43908d0"
      },
      "execution_count": 19,
      "outputs": [
        {
          "output_type": "stream",
          "name": "stdout",
          "text": [
            "Delhi 50000000 10\n"
          ]
        }
      ]
    }
  ]
}